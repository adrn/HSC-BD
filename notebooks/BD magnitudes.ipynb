{
 "cells": [
  {
   "cell_type": "code",
   "execution_count": null,
   "metadata": {
    "collapsed": true
   },
   "outputs": [],
   "source": [
    "import glob\n",
    "import re\n",
    "\n",
    "# Third-party\n",
    "from astropy.io import ascii, fits\n",
    "import astropy.coordinates as coord\n",
    "from astropy.table import Table\n",
    "import astropy.units as u\n",
    "import matplotlib as mpl\n",
    "import matplotlib.pyplot as plt\n",
    "import numpy as np\n",
    "%matplotlib inline\n",
    "\n",
    "from astropy.constants import c\n",
    "from scipy.integrate import simps"
   ]
  },
  {
   "cell_type": "markdown",
   "metadata": {},
   "source": [
    "For info about the model spectra, see Adam's page:\n",
    "https://www.astro.princeton.edu/~burrows/non/non.html\n",
    "\n",
    "For info about the filter curves, see the HSC wiki page:\n",
    "http://hscsurvey.pbworks.com/w/page/78016541/response_functions"
   ]
  },
  {
   "cell_type": "code",
   "execution_count": null,
   "metadata": {
    "collapsed": true
   },
   "outputs": [],
   "source": [
    "def load_model(model_spec_file, lambda_=False):\n",
    "    model_spec = ascii.read(model_spec_file)\n",
    "    \n",
    "    # Load the model spectrum - wavelength and f_nu are given\n",
    "    model_wvln = (model_spec['LAMBDA(mic)'] * u.micron).to(u.angstrom)\n",
    "    model_nu = model_wvln.to(u.Hz, u.spectral())\n",
    "    model_fnu = (model_spec['FDET(milliJ)'] * u.milliJansky).to(u.erg/u.s/u.cm**2/u.Hz)\n",
    "    \n",
    "    if lambda_:\n",
    "        return model_wvln, model_fnu.to(u.erg/u.s/u.cm**2/u.Angstrom, \n",
    "                                        u.spectral_density(model_wvln))\n",
    "    else:\n",
    "        return model_nu, model_fnu\n",
    "\n",
    "def load_filter(filter_file, lambda_=False):\n",
    "    # Load the filter response curve\n",
    "    filter_resp = ascii.read(filter_file, names=['wavelength', 'response'])\n",
    "    \n",
    "    # response is per photon\n",
    "    filter_wvln = filter_resp['wavelength'] * u.angstrom\n",
    "    filter_nu = filter_wvln.to(u.Hz, u.spectral())\n",
    "    filter_resp = filter_resp['response']\n",
    "    \n",
    "    if lambda_:\n",
    "        return filter_wvln, filter_resp\n",
    "    else:\n",
    "        return filter_nu, filter_resp\n",
    "    \n",
    "def get_abs_mag(model_spec_file, filter_resp_file):\n",
    "    model_nu, model_fnu = load_model(model_spec_file)\n",
    "    \n",
    "    # Load the filter response curve\n",
    "    filter_nu, filter_resp = load_filter(filter_resp_file) \n",
    "    \n",
    "    # filter response on the model wavelength (freq) grid\n",
    "    filter_resp_model = np.interp(model_nu.value, filter_nu.value, filter_resp)\n",
    "    \n",
    "    fnu1 = simps((model_fnu * filter_resp_model)[np.argsort(model_nu)], \n",
    "                 model_nu[np.argsort(model_nu)]) * model_fnu.unit*u.Hz\n",
    "\n",
    "    fnu2 = simps(filter_resp_model[np.argsort(model_nu)], \n",
    "                 model_nu[np.argsort(model_nu)]) * u.Hz * 3631*u.Jansky\n",
    "\n",
    "    return -2.5*np.log10(fnu1 / fnu2)"
   ]
  },
  {
   "cell_type": "code",
   "execution_count": null,
   "metadata": {},
   "outputs": [],
   "source": [
    "# test with known files\n",
    "get_abs_mag(\"../data/non.hubeny.burrows/c100_neq/T1800_g50_d2f0.c100\", \n",
    "            \"../data/hsc_responses_v1/hsc_r.dat\")"
   ]
  },
  {
   "cell_type": "markdown",
   "metadata": {},
   "source": [
    "### Plot spectrum, filter curves:"
   ]
  },
  {
   "cell_type": "code",
   "execution_count": null,
   "metadata": {},
   "outputs": [],
   "source": [
    "lam, f_lam = load_model(\"../data/non.hubeny.burrows/c100_neq/T1800_g50_d2f0.c100\", \n",
    "                        lambda_=True)\n",
    "_idx = (lam > 3800*u.AA) & (lam < 11000*u.AA)\n",
    "lam = lam[_idx]\n",
    "f_lam = f_lam[_idx]\n",
    "\n",
    "fig,ax = plt.subplots(1, 1, figsize=(10,6))\n",
    "\n",
    "for filter_fname in glob.glob('../data/hsc_responses_v1/*.dat'):\n",
    "    filter_name = pattr.search(filter_fname).groups()[0]\n",
    "    if filter_name.startswith('nb'): continue\n",
    "    \n",
    "    filter_lam, filter_resp = load_filter(filter_fname, lambda_=True)\n",
    "    ax.plot(filter_lam, filter_resp, marker='', color='#555555')\n",
    "\n",
    "ax.plot(lam, f_lam / f_lam.max(), marker='', drawstyle='steps-mid')\n",
    "\n",
    "ax.set_xlim(3800, 11000)"
   ]
  },
  {
   "cell_type": "markdown",
   "metadata": {},
   "source": [
    "Loop over all filters, all model spectra (range of temperatures):"
   ]
  },
  {
   "cell_type": "code",
   "execution_count": null,
   "metadata": {
    "collapsed": true
   },
   "outputs": [],
   "source": [
    "pattr = re.compile('hsc_([0-9a-zA-Z]+).dat')"
   ]
  },
  {
   "cell_type": "code",
   "execution_count": null,
   "metadata": {},
   "outputs": [],
   "source": [
    "Ts = np.arange(700, 1800+1, 100)\n",
    "tbl_data = dict()\n",
    "for filter_fname in glob.glob('../data/hsc_responses_v1/*.dat'):\n",
    "    filter_name = pattr.search(filter_fname).groups()[0]\n",
    "    \n",
    "    tbl_data[filter_name] = []\n",
    "    for T in Ts:\n",
    "        model_fname = \"../data/non.hubeny.burrows/c100_neq/T{0:d}_g50_d2f2.c100\".format(T)\n",
    "        mag = get_abs_mag(model_fname, filter_fname).value\n",
    "        tbl_data[filter_name].append(mag)\n",
    "tbl_data['T'] = Ts\n",
    "\n",
    "tbl = Table(tbl_data)\n",
    "tbl['T'].unit = u.Kelvin"
   ]
  },
  {
   "cell_type": "code",
   "execution_count": null,
   "metadata": {},
   "outputs": [],
   "source": [
    "fig,ax = plt.subplots(1, 1, figsize=(6,6))\n",
    "\n",
    "colors = ['tab:orange', 'tab:red', '#a50f15', 'black']\n",
    "for fil, color in zip('rizy', colors):\n",
    "    ax.plot(tbl['T'], tbl[fil] + 5, label='${0}$'.format(fil), \n",
    "            marker='', color=color)\n",
    "    \n",
    "ax.legend(loc='lower right', fontsize=18)\n",
    "    \n",
    "ax.set_ylim(26, 18.5)\n",
    "ax.set_title('brown dwarfs at 100 pc')\n",
    "\n",
    "ax.set_xlabel('$T$ [K]')\n",
    "ax.set_ylabel('$m$ [mag]')"
   ]
  },
  {
   "cell_type": "markdown",
   "metadata": {},
   "source": [
    "### Maximum distance given limiting magnitude"
   ]
  },
  {
   "cell_type": "code",
   "execution_count": null,
   "metadata": {
    "collapsed": true
   },
   "outputs": [],
   "source": [
    "m_lim = dict(g=27, r=26.5, i=26., z=25.5, y=24.7)"
   ]
  },
  {
   "cell_type": "code",
   "execution_count": null,
   "metadata": {},
   "outputs": [],
   "source": [
    "fig,ax = plt.subplots(1, 1, figsize=(6,6))\n",
    "\n",
    "colors = ['tab:orange', '#de2d26', '#a50f15', 'black']\n",
    "for fil, color in zip('rizy', colors):\n",
    "    d_lim = 10**((m_lim[fil] - 0.5 - tbl[fil])/5) * 10.\n",
    "    ax.plot(tbl['T'], d_lim, label='${0}$'.format(fil), \n",
    "            marker='', color=color, linewidth=3)\n",
    "    \n",
    "ax.legend(loc='upper left', fontsize=18)\n",
    "    \n",
    "# ax.set_ylim(26, 18.5)\n",
    "ax.set_xlim(700, 1800)\n",
    "ax.set_title('brown dwarfs in HSC')\n",
    "\n",
    "ax.set_xlabel('$T$ [K]')\n",
    "ax.set_ylabel(r'$d_{\\rm max}$ [pc]')\n",
    "\n",
    "ax.axvline(1300., zorder=-1, linestyle='--')\n",
    "\n",
    "ax.text(1310, 1500, 'L\u2192', ha='left', fontsize=14)\n",
    "ax.text(1290, 1500, '\u2190T', ha='right', fontsize=14)\n",
    "\n",
    "fig.tight_layout()\n",
    "fig.set_facecolor('w')\n",
    "fig.savefig('hsc_bd.png', dpi=300)"
   ]
  },
  {
   "cell_type": "code",
   "execution_count": null,
   "metadata": {
    "collapsed": true
   },
   "outputs": [],
   "source": []
  }
 ],
 "metadata": {
  "kernelspec": {
   "display_name": "Python [default]",
   "language": "python",
   "name": "python3"
  },
  "language_info": {
   "codemirror_mode": {
    "name": "ipython",
    "version": 3
   },
   "file_extension": ".py",
   "mimetype": "text/x-python",
   "name": "python",
   "nbconvert_exporter": "python",
   "pygments_lexer": "ipython3",
   "version": "3.5.3"
  }
 },
 "nbformat": 4,
 "nbformat_minor": 2
}